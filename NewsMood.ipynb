{
 "cells": [
  {
   "cell_type": "markdown",
   "metadata": {},
   "source": [
    "## News Mood"
   ]
  },
  {
   "cell_type": "markdown",
   "metadata": {},
   "source": [
    "#### Import dependencies. Initialize sentiment analyzer. Twitter API keys and authentication"
   ]
  },
  {
   "cell_type": "code",
   "execution_count": 1,
   "metadata": {},
   "outputs": [],
   "source": [
    "# Dependencies\n",
    "import tweepy\n",
    "import numpy as np\n",
    "import pandas as pd\n",
    "import matplotlib.pyplot as plt\n",
    "from datetime import datetime\n",
    "\n",
    "# Import and Initialize Sentiment Analyzer\n",
    "from vaderSentiment.vaderSentiment import SentimentIntensityAnalyzer\n",
    "analyzer = SentimentIntensityAnalyzer()\n",
    "\n",
    "# Twitter API Keys\n",
    "from config import (consumer_key,\n",
    "                    consumer_secret,\n",
    "                    access_token,\n",
    "                    access_token_secret)\n",
    "\n",
    "# Setup Tweepy API Authentication\n",
    "auth = tweepy.OAuthHandler(consumer_key, consumer_secret)\n",
    "auth.set_access_token(access_token, access_token_secret)\n",
    "api = tweepy.API(auth, parser=tweepy.parsers.JSONParser())"
   ]
  },
  {
   "cell_type": "code",
   "execution_count": 2,
   "metadata": {},
   "outputs": [],
   "source": [
    "# Target User Account\n",
    "target_users = (\"@BBCWorld\",\"@CBSNews\",\"@CNN\",\"@FoxNews\",\"@nytimes\")\n",
    "                \n",
    "# Variables for holding tweets and sentiments\n",
    "tweet_user = []\n",
    "tweet_texts = []\n",
    "created_times =[]\n",
    "compound_list = []\n",
    "positive_list = []\n",
    "negative_list = []\n",
    "neutral_list = []\n",
    "converted_timestamp =[]\n",
    "time_diffs = []\n",
    "\n",
    "# Loop through each user\n",
    "for target_user in target_users:\n",
    "    \n",
    "    # Loop through 5 pages of tweets (total 100 tweets)\n",
    "    for x in range(1, 6):\n",
    "        # Get all tweets from home feed\n",
    "        public_tweets = api.user_timeline(target_user, page=x) \n",
    "        # Loop through all tweets\n",
    "        raw_times=[]\n",
    "        for tweet in public_tweets:\n",
    "    \n",
    "            # Run Vader Analysis on each tweet\n",
    "            results = analyzer.polarity_scores(tweet[\"text\"])\n",
    "\n",
    "            # Add each value to the appropriate list\n",
    "            tweet_texts.append(tweet[\"text\"])\n",
    "            tweet_user.append(tweet['user']['name'])\n",
    "            created_times.append(tweet[\"created_at\"]) \n",
    "            raw_times.append(tweet[\"created_at\"]) \n",
    "            compound_list.append(results['compound'])\n",
    "            positive_list.append(results['pos'])\n",
    "            negative_list.append(results['neg'])\n",
    "            neutral_list.append(results['neu'])\n",
    "            \n",
    "        #convert string times to date objects\n",
    "        converted_times =[]\n",
    "        for raw_time in raw_times:\n",
    "            converted_time = datetime.strptime(raw_time,\"%a %b %d %H:%M:%S %z %Y\") #string is formatted as\"\"%a %b %d %H:%M:%S %z %Y\" so convert it into date time object\n",
    "            converted_times.append(converted_time)\n",
    "            converted_timestamp.append(converted_time)\n",
    "         \n",
    "        converted_length = len(converted_times)\n",
    "\n",
    "        #find the difference between tweets\n",
    "        time_diffs.append(0)\n",
    "        for x in range(converted_length - 1):\n",
    "            time_diff = converted_times [x] - converted_times[x+1]\n",
    "\n",
    "            # convert time_diff to minutes\n",
    "            time_diff = time_diff.seconds / 60\n",
    "            time_diffs.append(time_diff)\n",
    "            "
   ]
  },
  {
   "cell_type": "code",
   "execution_count": 3,
   "metadata": {},
   "outputs": [
    {
     "data": {
      "text/html": [
       "<div>\n",
       "<style scoped>\n",
       "    .dataframe tbody tr th:only-of-type {\n",
       "        vertical-align: middle;\n",
       "    }\n",
       "\n",
       "    .dataframe tbody tr th {\n",
       "        vertical-align: top;\n",
       "    }\n",
       "\n",
       "    .dataframe thead th {\n",
       "        text-align: right;\n",
       "    }\n",
       "</style>\n",
       "<table border=\"1\" class=\"dataframe\">\n",
       "  <thead>\n",
       "    <tr style=\"text-align: right;\">\n",
       "      <th></th>\n",
       "      <th>Compound Score</th>\n",
       "      <th>Converted Time</th>\n",
       "      <th>Created Date</th>\n",
       "      <th>Negative Score</th>\n",
       "      <th>Neutral Score</th>\n",
       "      <th>Positive Score</th>\n",
       "      <th>Time Between Tweets (in minutes)</th>\n",
       "      <th>Tweeter Account</th>\n",
       "      <th>Tweets</th>\n",
       "    </tr>\n",
       "  </thead>\n",
       "  <tbody>\n",
       "    <tr>\n",
       "      <th>0</th>\n",
       "      <td>0.0000</td>\n",
       "      <td>2018-06-06 23:38:56+00:00</td>\n",
       "      <td>Wed Jun 06 23:38:56 +0000 2018</td>\n",
       "      <td>0.000</td>\n",
       "      <td>1.000</td>\n",
       "      <td>0.000</td>\n",
       "      <td>0.000000</td>\n",
       "      <td>BBC News (World)</td>\n",
       "      <td>Separation of migrant families: What other cou...</td>\n",
       "    </tr>\n",
       "    <tr>\n",
       "      <th>1</th>\n",
       "      <td>0.6597</td>\n",
       "      <td>2018-06-06 23:33:41+00:00</td>\n",
       "      <td>Wed Jun 06 23:33:41 +0000 2018</td>\n",
       "      <td>0.000</td>\n",
       "      <td>0.597</td>\n",
       "      <td>0.403</td>\n",
       "      <td>5.250000</td>\n",
       "      <td>BBC News (World)</td>\n",
       "      <td>Meet the nuns helping save a sacred species fr...</td>\n",
       "    </tr>\n",
       "    <tr>\n",
       "      <th>2</th>\n",
       "      <td>-0.1796</td>\n",
       "      <td>2018-06-06 23:33:40+00:00</td>\n",
       "      <td>Wed Jun 06 23:33:40 +0000 2018</td>\n",
       "      <td>0.241</td>\n",
       "      <td>0.568</td>\n",
       "      <td>0.191</td>\n",
       "      <td>0.016667</td>\n",
       "      <td>BBC News (World)</td>\n",
       "      <td>G7 summit: Trapped in the world's most secure ...</td>\n",
       "    </tr>\n",
       "    <tr>\n",
       "      <th>3</th>\n",
       "      <td>0.0000</td>\n",
       "      <td>2018-06-06 23:33:40+00:00</td>\n",
       "      <td>Wed Jun 06 23:33:40 +0000 2018</td>\n",
       "      <td>0.000</td>\n",
       "      <td>1.000</td>\n",
       "      <td>0.000</td>\n",
       "      <td>0.000000</td>\n",
       "      <td>BBC News (World)</td>\n",
       "      <td>A North Korean wishlist: The three things Pyon...</td>\n",
       "    </tr>\n",
       "    <tr>\n",
       "      <th>4</th>\n",
       "      <td>-0.4404</td>\n",
       "      <td>2018-06-06 23:17:39+00:00</td>\n",
       "      <td>Wed Jun 06 23:17:39 +0000 2018</td>\n",
       "      <td>0.281</td>\n",
       "      <td>0.576</td>\n",
       "      <td>0.144</td>\n",
       "      <td>16.016667</td>\n",
       "      <td>BBC News (World)</td>\n",
       "      <td>Ethiopia offers Eritrea chance to end Africa's...</td>\n",
       "    </tr>\n",
       "  </tbody>\n",
       "</table>\n",
       "</div>"
      ],
      "text/plain": [
       "   Compound Score            Converted Time                    Created Date  \\\n",
       "0          0.0000 2018-06-06 23:38:56+00:00  Wed Jun 06 23:38:56 +0000 2018   \n",
       "1          0.6597 2018-06-06 23:33:41+00:00  Wed Jun 06 23:33:41 +0000 2018   \n",
       "2         -0.1796 2018-06-06 23:33:40+00:00  Wed Jun 06 23:33:40 +0000 2018   \n",
       "3          0.0000 2018-06-06 23:33:40+00:00  Wed Jun 06 23:33:40 +0000 2018   \n",
       "4         -0.4404 2018-06-06 23:17:39+00:00  Wed Jun 06 23:17:39 +0000 2018   \n",
       "\n",
       "   Negative Score  Neutral Score  Positive Score  \\\n",
       "0           0.000          1.000           0.000   \n",
       "1           0.000          0.597           0.403   \n",
       "2           0.241          0.568           0.191   \n",
       "3           0.000          1.000           0.000   \n",
       "4           0.281          0.576           0.144   \n",
       "\n",
       "   Time Between Tweets (in minutes)   Tweeter Account  \\\n",
       "0                          0.000000  BBC News (World)   \n",
       "1                          5.250000  BBC News (World)   \n",
       "2                          0.016667  BBC News (World)   \n",
       "3                          0.000000  BBC News (World)   \n",
       "4                         16.016667  BBC News (World)   \n",
       "\n",
       "                                              Tweets  \n",
       "0  Separation of migrant families: What other cou...  \n",
       "1  Meet the nuns helping save a sacred species fr...  \n",
       "2  G7 summit: Trapped in the world's most secure ...  \n",
       "3  A North Korean wishlist: The three things Pyon...  \n",
       "4  Ethiopia offers Eritrea chance to end Africa's...  "
      ]
     },
     "execution_count": 3,
     "metadata": {},
     "output_type": "execute_result"
    }
   ],
   "source": [
    "#Create dataframe\n",
    "tweet_pd = pd.DataFrame({\"Tweets\" : tweet_texts,\"Compound Score\":compound_list,\n",
    "                          \"Positive Score\":positive_list,\"Negative Score\":negative_list,\"Neutral Score\":neutral_list,\n",
    "                          \"Created Date\":created_times, \"Tweeter Account\":tweet_user,\n",
    "                          \"Time Between Tweets (in minutes)\":time_diffs,\"Converted Time\":converted_timestamp})\n",
    "\n",
    "tweet_pd.head()"
   ]
  },
  {
   "cell_type": "code",
   "execution_count": 4,
   "metadata": {},
   "outputs": [],
   "source": [
    "#Create a dataframe for each Tweeter Account\n",
    "BBC = tweet_pd[tweet_pd[\"Tweeter Account\"] == 'BBC News (World)']\n",
    "CBS = tweet_pd[tweet_pd[\"Tweeter Account\"] == 'CBS News']\n",
    "CNN = tweet_pd[tweet_pd[\"Tweeter Account\"] == 'CNN']\n",
    "FOX = tweet_pd[tweet_pd[\"Tweeter Account\"] == 'Fox News']\n",
    "NYTimes = tweet_pd[tweet_pd[\"Tweeter Account\"] == 'The New York Times']"
   ]
  },
  {
   "cell_type": "code",
   "execution_count": 8,
   "metadata": {},
   "outputs": [
    {
     "data": {
      "image/png": "[encoded data removed]",
      "text/plain": [
       "<matplotlib.figure.Figure at 0x151412535f8>"
      ]
     },
     "metadata": {},
     "output_type": "display_data"
    },
    {
     "data": {
      "text/plain": [
       "<matplotlib.figure.Figure at 0x1514185b160>"
      ]
     },
     "metadata": {},
     "output_type": "display_data"
    }
   ],
   "source": [
    "#Scatter plot\n",
    "plt.scatter(BBC[\"Time Between Tweets (in minutes)\"], BBC[\"Compound Score\"],facecolors=\"lightskyblue\",label=\"BBC\",edgecolors=\"black\", marker = \"o\",s=100)\n",
    "plt.scatter(CBS[\"Time Between Tweets (in minutes)\"], CBS[\"Compound Score\"],facecolors=\"green\",label=\"CBS\",edgecolors=\"black\", marker = \"o\",s=100)\n",
    "plt.scatter(CNN[\"Time Between Tweets (in minutes)\"], CNN[\"Compound Score\"],facecolors=\"red\",label=\"CNN\",edgecolors=\"black\", marker = \"o\",s=100)\n",
    "plt.scatter(FOX[\"Time Between Tweets (in minutes)\"], FOX[\"Compound Score\"],facecolors=\"blue\",label=\"FOX\",edgecolors=\"black\", marker = \"o\",s=100)\n",
    "plt.scatter(NYTimes[\"Time Between Tweets (in minutes)\"], NYTimes[\"Compound Score\"],facecolors=\"yellow\",label=\"New York Times\",edgecolors=\"black\", marker = \"o\",s=100)\n",
    "\n",
    "#plt.xlim(70,-5)\n",
    "#plt.ylim (-1.5,1.5)\n",
    "plt.xlabel(\"Tweets Ago\")\n",
    "plt.ylabel(\"Tweet Polarity\")\n",
    "plt.title(\"Sentiment Analysis of Media Tweets\\n (06/05/2018)\")\n",
    "plt.legend (loc = \"upper right\")\n",
    "plt.show()\n",
    "\n",
    "plt.savefig(\"MediaSentimentAnalysis.png\")"
   ]
  },
  {
   "cell_type": "code",
   "execution_count": 9,
   "metadata": {},
   "outputs": [
    {
     "data": {
      "image/png": "[encoded data removed]",
      "text/plain": [
       "<matplotlib.figure.Figure at 0x1514145d1d0>"
      ]
     },
     "metadata": {},
     "output_type": "display_data"
    },
    {
     "data": {
      "text/plain": [
       "<matplotlib.figure.Figure at 0x151412f1f60>"
      ]
     },
     "metadata": {},
     "output_type": "display_data"
    }
   ],
   "source": [
    "#Overall Media Sentiment bar graph\n",
    "\n",
    "media_group = tweet_pd.groupby('Tweeter Account')\n",
    "average_compound = media_group['Compound Score'].mean()\n",
    "\n",
    "average_chart = average_compound.plot(kind='bar',width=1,edgecolor = \"black\",\n",
    "                                     color=[\"lightskyblue\",\"green\",\"red\",\"blue\",\"yellow\"])\n",
    "\n",
    "plt.ylabel(\"Tweet Polarity\")\n",
    "plt.title(\"Overall Media Sentiment based on Twitter\\n (06/05/2018)\")\n",
    "\n",
    "#Create data value labels for bars\n",
    "rects = average_chart.patches\n",
    "\n",
    "for rect in rects:\n",
    "    y_value = rect.get_height()\n",
    "    x_value = rect.get_x() + rect.get_width() / 2\n",
    "\n",
    "    space = 2\n",
    "    va = 'bottom'\n",
    "    \n",
    "    if y_value < 0:\n",
    "        space *= -1\n",
    "        va = 'top'  \n",
    "\n",
    "    label = \"{:.3f}\".format(y_value)\n",
    "    \n",
    "    plt.annotate(label,            \n",
    "        (x_value, y_value),         \n",
    "        xytext=(0, space),          \n",
    "        textcoords=\"offset points\", \n",
    "        ha='center',                \n",
    "        va=va)                      \n",
    "\n",
    "plt.show()\n",
    "plt.savefig(\"OverallMediaAnalysis.png\")"
   ]
  },
  {
   "cell_type": "code",
   "execution_count": 10,
   "metadata": {},
   "outputs": [],
   "source": [
    "#Create clean dataframe for export to csv\n",
    "media_tweet_pd = pd.DataFrame({\"Tweets\" : tweet_texts,\"Compound Score\":compound_list,\n",
    "                          \"Positive Score\":positive_list,\"Negative Score\":negative_list,\"Neutral Score\":neutral_list,\n",
    "                          \"Created Date\":created_times, \"Tweeter Account\":tweet_user})\n",
    "\n",
    "#format\n",
    "media_tweet_pd[\"Compound Score\"] = media_tweet_pd[\"Compound Score\"].map(\"{:,.2f}\".format) \n",
    "media_tweet_pd[\"Negative Score\"] = media_tweet_pd[\"Negative Score\"].map(\"{:,.2f}\".format) \n",
    "media_tweet_pd[\"Positive Score\"] = media_tweet_pd[\"Positive Score\"].map(\"{:,.2f}\".format) \n",
    "media_tweet_pd[\"Neutral Score\"] = media_tweet_pd[\"Neutral Score\"].map(\"{:,.2f}\".format) \n",
    "\n",
    "media_tweet_pd = media_tweet_pd[[\"Tweeter Account\",\"Tweets\",\"Created Date\",\"Compound Score\",\"Positive Score\",\"Negative Score\",\"Neutral Score\"]]\n",
    "\n",
    "media_tweet_pd.head()\n",
    "\n",
    "media_tweet_pd.to_csv(\"NewsMood.csv\",index=False,header=True)"
   ]
  },
  {
   "cell_type": "markdown",
   "metadata": {},
   "source": [
    "## Observations\n",
    "1. Minutes between tweets for BBC is greater than the other media outlets. May be duee the time difference.\n",
    "2. Most of the CBS tweets are within the 20 minute window, but also very negative.\n",
    "3. Though the media should be neutral, the Overall Media Sentiment proves otherwise."
   ]
  },
  {
   "cell_type": "code",
   "execution_count": null,
   "metadata": {},
   "outputs": [],
   "source": []
  }
 ],
 "metadata": {
  "kernelspec": {
   "display_name": "Python 3",
   "language": "python",
   "name": "python3"
  },
  "language_info": {
   "codemirror_mode": {
    "name": "ipython",
    "version": 3
   },
   "file_extension": ".py",
   "mimetype": "text/x-python",
   "name": "python",
   "nbconvert_exporter": "python",
   "pygments_lexer": "ipython3",
   "version": "3.6.4"
  },
  "varInspector": {
   "cols": {
    "lenName": 16,
    "lenType": 16,
    "lenVar": 40
   },
   "kernels_config": {
    "python": {
     "delete_cmd_postfix": "",
     "delete_cmd_prefix": "del ",
     "library": "var_list.py",
     "varRefreshCmd": "print(var_dic_list())"
    },
    "r": {
     "delete_cmd_postfix": ") ",
     "delete_cmd_prefix": "rm(",
     "library": "var_list.r",
     "varRefreshCmd": "cat(var_dic_list()) "
    }
   },
   "types_to_exclude": [
    "module",
    "function",
    "builtin_function_or_method",
    "instance",
    "_Feature"
   ],
   "window_display": false
  }
 },
 "nbformat": 4,
 "nbformat_minor": 2
}
